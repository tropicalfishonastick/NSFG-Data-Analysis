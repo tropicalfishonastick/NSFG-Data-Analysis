{
 "cells": [
  {
   "cell_type": "code",
   "execution_count": 4,
   "metadata": {},
   "outputs": [
    {
     "data": {
      "text/plain": [
       "<module 'nsfg1' from 'c:\\\\Users\\\\Ayushi Tripathi\\\\OneDrive\\\\Documents\\\\Github\\\\NSFG-Data-Analysis\\\\nsfg1.py'>"
      ]
     },
     "execution_count": 4,
     "metadata": {},
     "output_type": "execute_result"
    }
   ],
   "source": [
    "import nsfg1\n",
    "import pandas as pd\n",
    "import numpy as np\n",
    "from importlib import reload\n",
    "reload(nsfg1)"
   ]
  },
  {
   "cell_type": "code",
   "execution_count": 5,
   "metadata": {},
   "outputs": [
    {
     "data": {
      "text/html": [
       "<div>\n",
       "<style scoped>\n",
       "    .dataframe tbody tr th:only-of-type {\n",
       "        vertical-align: middle;\n",
       "    }\n",
       "\n",
       "    .dataframe tbody tr th {\n",
       "        vertical-align: top;\n",
       "    }\n",
       "\n",
       "    .dataframe thead th {\n",
       "        text-align: right;\n",
       "    }\n",
       "</style>\n",
       "<table border=\"1\" class=\"dataframe\">\n",
       "  <thead>\n",
       "    <tr style=\"text-align: right;\">\n",
       "      <th></th>\n",
       "      <th>caseid</th>\n",
       "      <th>pregordr</th>\n",
       "      <th>howpreg_n</th>\n",
       "      <th>howpreg_p</th>\n",
       "      <th>moscurrp</th>\n",
       "      <th>nowprgdk</th>\n",
       "      <th>pregend1</th>\n",
       "      <th>pregend2</th>\n",
       "      <th>howenddk</th>\n",
       "      <th>nbrnaliv</th>\n",
       "      <th>...</th>\n",
       "      <th>cmintvw</th>\n",
       "      <th>cmlstyr</th>\n",
       "      <th>cmjan3yr</th>\n",
       "      <th>cmjan4yr</th>\n",
       "      <th>cmjan5yr</th>\n",
       "      <th>quarter</th>\n",
       "      <th>phase</th>\n",
       "      <th>intvwyear</th>\n",
       "      <th>totalwgt_lb1</th>\n",
       "      <th>totalwgt_kg</th>\n",
       "    </tr>\n",
       "  </thead>\n",
       "  <tbody>\n",
       "    <tr>\n",
       "      <th>0</th>\n",
       "      <td>60418</td>\n",
       "      <td>1</td>\n",
       "      <td>NaN</td>\n",
       "      <td>NaN</td>\n",
       "      <td>NaN</td>\n",
       "      <td>NaN</td>\n",
       "      <td>5.0</td>\n",
       "      <td>NaN</td>\n",
       "      <td>NaN</td>\n",
       "      <td>1.0</td>\n",
       "      <td>...</td>\n",
       "      <td>NaN</td>\n",
       "      <td>1369</td>\n",
       "      <td>1345</td>\n",
       "      <td>1333</td>\n",
       "      <td>1321</td>\n",
       "      <td>14</td>\n",
       "      <td>1</td>\n",
       "      <td>201</td>\n",
       "      <td>5.2500</td>\n",
       "      <td>2.381358</td>\n",
       "    </tr>\n",
       "    <tr>\n",
       "      <th>1</th>\n",
       "      <td>60418</td>\n",
       "      <td>2</td>\n",
       "      <td>NaN</td>\n",
       "      <td>NaN</td>\n",
       "      <td>NaN</td>\n",
       "      <td>NaN</td>\n",
       "      <td>5.0</td>\n",
       "      <td>NaN</td>\n",
       "      <td>NaN</td>\n",
       "      <td>1.0</td>\n",
       "      <td>...</td>\n",
       "      <td>NaN</td>\n",
       "      <td>1369</td>\n",
       "      <td>1345</td>\n",
       "      <td>1333</td>\n",
       "      <td>1321</td>\n",
       "      <td>14</td>\n",
       "      <td>1</td>\n",
       "      <td>201</td>\n",
       "      <td>4.7500</td>\n",
       "      <td>2.154562</td>\n",
       "    </tr>\n",
       "    <tr>\n",
       "      <th>2</th>\n",
       "      <td>60418</td>\n",
       "      <td>3</td>\n",
       "      <td>NaN</td>\n",
       "      <td>NaN</td>\n",
       "      <td>NaN</td>\n",
       "      <td>NaN</td>\n",
       "      <td>5.0</td>\n",
       "      <td>NaN</td>\n",
       "      <td>NaN</td>\n",
       "      <td>1.0</td>\n",
       "      <td>...</td>\n",
       "      <td>NaN</td>\n",
       "      <td>1369</td>\n",
       "      <td>1345</td>\n",
       "      <td>1333</td>\n",
       "      <td>1321</td>\n",
       "      <td>14</td>\n",
       "      <td>1</td>\n",
       "      <td>201</td>\n",
       "      <td>5.2500</td>\n",
       "      <td>2.381358</td>\n",
       "    </tr>\n",
       "    <tr>\n",
       "      <th>3</th>\n",
       "      <td>60419</td>\n",
       "      <td>1</td>\n",
       "      <td>33.0</td>\n",
       "      <td>1.0</td>\n",
       "      <td>8.0</td>\n",
       "      <td>NaN</td>\n",
       "      <td>NaN</td>\n",
       "      <td>NaN</td>\n",
       "      <td>NaN</td>\n",
       "      <td>NaN</td>\n",
       "      <td>...</td>\n",
       "      <td>NaN</td>\n",
       "      <td>1376</td>\n",
       "      <td>1345</td>\n",
       "      <td>1333</td>\n",
       "      <td>1321</td>\n",
       "      <td>16</td>\n",
       "      <td>1</td>\n",
       "      <td>201</td>\n",
       "      <td>NaN</td>\n",
       "      <td>NaN</td>\n",
       "    </tr>\n",
       "    <tr>\n",
       "      <th>4</th>\n",
       "      <td>60420</td>\n",
       "      <td>1</td>\n",
       "      <td>NaN</td>\n",
       "      <td>NaN</td>\n",
       "      <td>NaN</td>\n",
       "      <td>NaN</td>\n",
       "      <td>6.0</td>\n",
       "      <td>NaN</td>\n",
       "      <td>NaN</td>\n",
       "      <td>1.0</td>\n",
       "      <td>...</td>\n",
       "      <td>NaN</td>\n",
       "      <td>1376</td>\n",
       "      <td>1345</td>\n",
       "      <td>1333</td>\n",
       "      <td>1321</td>\n",
       "      <td>16</td>\n",
       "      <td>1</td>\n",
       "      <td>201</td>\n",
       "      <td>8.8125</td>\n",
       "      <td>3.997279</td>\n",
       "    </tr>\n",
       "  </tbody>\n",
       "</table>\n",
       "<p>5 rows × 280 columns</p>\n",
       "</div>"
      ],
      "text/plain": [
       "   caseid  pregordr  howpreg_n  howpreg_p  moscurrp  nowprgdk  pregend1  \\\n",
       "0   60418         1        NaN        NaN       NaN       NaN       5.0   \n",
       "1   60418         2        NaN        NaN       NaN       NaN       5.0   \n",
       "2   60418         3        NaN        NaN       NaN       NaN       5.0   \n",
       "3   60419         1       33.0        1.0       8.0       NaN       NaN   \n",
       "4   60420         1        NaN        NaN       NaN       NaN       6.0   \n",
       "\n",
       "   pregend2  howenddk  nbrnaliv  ...  cmintvw  cmlstyr  cmjan3yr  cmjan4yr  \\\n",
       "0       NaN       NaN       1.0  ...      NaN     1369      1345      1333   \n",
       "1       NaN       NaN       1.0  ...      NaN     1369      1345      1333   \n",
       "2       NaN       NaN       1.0  ...      NaN     1369      1345      1333   \n",
       "3       NaN       NaN       NaN  ...      NaN     1376      1345      1333   \n",
       "4       NaN       NaN       1.0  ...      NaN     1376      1345      1333   \n",
       "\n",
       "   cmjan5yr  quarter  phase  intvwyear  totalwgt_lb1  totalwgt_kg  \n",
       "0      1321       14      1        201        5.2500     2.381358  \n",
       "1      1321       14      1        201        4.7500     2.154562  \n",
       "2      1321       14      1        201        5.2500     2.381358  \n",
       "3      1321       16      1        201           NaN          NaN  \n",
       "4      1321       16      1        201        8.8125     3.997279  \n",
       "\n",
       "[5 rows x 280 columns]"
      ]
     },
     "execution_count": 5,
     "metadata": {},
     "output_type": "execute_result"
    }
   ],
   "source": [
    "preg = nsfg1.read_fem_preg()\n",
    "preg.head()"
   ]
  },
  {
   "cell_type": "code",
   "execution_count": 6,
   "metadata": {},
   "outputs": [
    {
     "data": {
      "text/plain": [
       "Index(['caseid', 'pregordr', 'howpreg_n', 'howpreg_p', 'moscurrp', 'nowprgdk',\n",
       "       'pregend1', 'pregend2', 'howenddk', 'nbrnaliv',\n",
       "       ...\n",
       "       'cmintvw', 'cmlstyr', 'cmjan3yr', 'cmjan4yr', 'cmjan5yr', 'quarter',\n",
       "       'phase', 'intvwyear', 'totalwgt_lb1', 'totalwgt_kg'],\n",
       "      dtype='object', length=280)"
      ]
     },
     "execution_count": 6,
     "metadata": {},
     "output_type": "execute_result"
    }
   ],
   "source": [
    "preg.columns"
   ]
  },
  {
   "cell_type": "code",
   "execution_count": 7,
   "metadata": {},
   "outputs": [
    {
     "data": {
      "text/plain": [
       "'pregordr'"
      ]
     },
     "execution_count": 7,
     "metadata": {},
     "output_type": "execute_result"
    }
   ],
   "source": [
    "preg.columns[1]"
   ]
  },
  {
   "cell_type": "code",
   "execution_count": 8,
   "metadata": {},
   "outputs": [
    {
     "data": {
      "text/plain": [
       "pandas.core.series.Series"
      ]
     },
     "execution_count": 8,
     "metadata": {},
     "output_type": "execute_result"
    }
   ],
   "source": [
    "pregordr = preg.pregordr\n",
    "type(pregordr)"
   ]
  },
  {
   "cell_type": "code",
   "execution_count": 9,
   "metadata": {},
   "outputs": [
    {
     "data": {
      "text/plain": [
       "0       1\n",
       "1       2\n",
       "2       3\n",
       "3       1\n",
       "4       1\n",
       "       ..\n",
       "9353    3\n",
       "9354    1\n",
       "9355    2\n",
       "9356    1\n",
       "9357    2\n",
       "Name: pregordr, Length: 9358, dtype: int64"
      ]
     },
     "execution_count": 9,
     "metadata": {},
     "output_type": "execute_result"
    }
   ],
   "source": [
    "pregordr"
   ]
  },
  {
   "cell_type": "code",
   "execution_count": 10,
   "metadata": {},
   "outputs": [
    {
     "data": {
      "text/plain": [
       "1"
      ]
     },
     "execution_count": 10,
     "metadata": {},
     "output_type": "execute_result"
    }
   ],
   "source": [
    "pregordr[0]"
   ]
  },
  {
   "cell_type": "code",
   "execution_count": 11,
   "metadata": {},
   "outputs": [
    {
     "data": {
      "text/plain": [
       "2    3\n",
       "3    1\n",
       "4    1\n",
       "Name: pregordr, dtype: int64"
      ]
     },
     "execution_count": 11,
     "metadata": {},
     "output_type": "execute_result"
    }
   ],
   "source": [
    "pregordr[2:5]"
   ]
  },
  {
   "cell_type": "code",
   "execution_count": 12,
   "metadata": {},
   "outputs": [
    {
     "data": {
      "text/plain": [
       "outcome\n",
       "1    6489\n",
       "2     947\n",
       "3      86\n",
       "4    1469\n",
       "5     118\n",
       "6     249\n",
       "Name: count, dtype: int64"
      ]
     },
     "execution_count": 12,
     "metadata": {},
     "output_type": "execute_result"
    }
   ],
   "source": [
    "preg.outcome.value_counts().sort_index()"
   ]
  },
  {
   "cell_type": "code",
   "execution_count": 13,
   "metadata": {},
   "outputs": [
    {
     "data": {
      "text/plain": [
       "birthwgt_lb1\n",
       "0.0        6\n",
       "1.0       34\n",
       "2.0       47\n",
       "3.0       67\n",
       "4.0      196\n",
       "5.0      586\n",
       "6.0     1666\n",
       "7.0     2146\n",
       "8.0     1168\n",
       "9.0      363\n",
       "10.0      82\n",
       "11.0      17\n",
       "12.0       7\n",
       "13.0       2\n",
       "14.0       2\n",
       "17.0       1\n",
       "Name: count, dtype: int64"
      ]
     },
     "execution_count": 13,
     "metadata": {},
     "output_type": "execute_result"
    }
   ],
   "source": [
    "preg.birthwgt_lb1.value_counts().sort_index()"
   ]
  },
  {
   "cell_type": "code",
   "execution_count": 14,
   "metadata": {},
   "outputs": [
    {
     "name": "stdout",
     "output_type": "stream",
     "text": [
      "Length of DataFrame in read_fem_resp: 5699\n",
      "   caseid  pregordr  howpreg_n  howpreg_p  moscurrp  nowprgdk  pregend1  \\\n",
      "0   60418         1        NaN        NaN       NaN       NaN       5.0   \n",
      "\n",
      "   pregend2  howenddk  nbrnaliv  ...  cmintvw  cmlstyr  cmjan3yr  cmjan4yr  \\\n",
      "0       NaN       NaN       1.0  ...      NaN     1369      1345      1333   \n",
      "\n",
      "   cmjan5yr  quarter  phase  intvwyear  totalwgt_lb1  totalwgt_kg  \n",
      "0      1321       14      1        201          5.25     2.381358  \n",
      "\n",
      "[1 rows x 280 columns]\n"
     ]
    }
   ],
   "source": [
    "# `read_fem_resp` is a function that returns the respondent DataFrame\n",
    "resp = nsfg1.read_fem_resp()\n",
    "\n",
    "# Create a dictionary to map from each respondent's caseid to a list of indices\n",
    "respondent_indices = {}\n",
    "for index, row in resp.iterrows():\n",
    "    caseid = row['caseid']\n",
    "    if caseid not in respondent_indices:\n",
    "        respondent_indices[caseid] = []\n",
    "    respondent_indices[caseid].append(index)\n",
    "\n",
    "# Now use this dictionary to select the pregnancy outcomes for a single respondent\n",
    "# let's say you want to get pregnancy outcomes for the respondent with caseid 60418\n",
    "respondent_caseid = 60418\n",
    "if respondent_caseid in respondent_indices:\n",
    "    indices_for_respondent = respondent_indices[respondent_caseid]\n",
    "    # `preg` is the pregnancy DataFrame\n",
    "    pregnancy_outcomes_for_respondent = preg.loc[indices_for_respondent]\n",
    "\n",
    "    # Display the pregnancy outcomes for the selected respondent\n",
    "    print(pregnancy_outcomes_for_respondent)\n",
    "else:\n",
    "    print(f\"Caseid {respondent_caseid} not found in the respondent data.\")\n"
   ]
  },
  {
   "cell_type": "markdown",
   "metadata": {},
   "source": [
    "Select the `birthord` column, print the value counts, and compare to results published in the Female Pregnancy File Codebook"
   ]
  },
  {
   "cell_type": "code",
   "execution_count": 15,
   "metadata": {},
   "outputs": [
    {
     "data": {
      "text/plain": [
       "birthord\n",
       "1.0     3067\n",
       "2.0     2002\n",
       "3.0      937\n",
       "4.0      322\n",
       "5.0      106\n",
       "6.0       32\n",
       "7.0       14\n",
       "8.0        6\n",
       "9.0        2\n",
       "10.0       1\n",
       "Name: count, dtype: int64"
      ]
     },
     "execution_count": 15,
     "metadata": {},
     "output_type": "execute_result"
    }
   ],
   "source": [
    "df = nsfg1.read_fem_preg()\n",
    "df.birthord.value_counts().sort_index()"
   ]
  },
  {
   "cell_type": "markdown",
   "metadata": {},
   "source": [
    "Use `isnull` to count the number of nans"
   ]
  },
  {
   "cell_type": "code",
   "execution_count": 16,
   "metadata": {},
   "outputs": [
    {
     "data": {
      "text/plain": [
       "2869"
      ]
     },
     "execution_count": 16,
     "metadata": {},
     "output_type": "execute_result"
    }
   ],
   "source": [
    "df.birthord.isnull().sum()"
   ]
  },
  {
   "cell_type": "markdown",
   "metadata": {},
   "source": [
    "Select the `prglngth` column, print the value counts, and compare to results published in the [codebook]"
   ]
  },
  {
   "cell_type": "code",
   "execution_count": 17,
   "metadata": {},
   "outputs": [
    {
     "name": "stdout",
     "output_type": "stream",
     "text": [
      "Categorized Value Counts:\n",
      "prglngth_category\n",
      "27 weeks or longer    6585\n",
      "0-13 weeks            2323\n",
      "14-26 weeks            450\n",
      "Name: count, dtype: int64\n"
     ]
    }
   ],
   "source": [
    "# Categorize the weeks into ranges\n",
    "bins = [0, 13, 26, float('inf')]  # Using float('inf') for \"27 weeks or longer\"\n",
    "labels = ['0-13 weeks', '14-26 weeks', '27 weeks or longer']\n",
    "\n",
    "# Create a new column with the categorized values\n",
    "df['prglngth_category'] = pd.cut(df['prglngth'], bins=bins, labels=labels, include_lowest=True)\n",
    "\n",
    "# Print the value counts for the categorized column\n",
    "print(\"Categorized Value Counts:\")\n",
    "print(df['prglngth_category'].value_counts())"
   ]
  },
  {
   "cell_type": "markdown",
   "metadata": {},
   "source": [
    "To compute the mean of a column, you can invoke the `mean` method on a Series.  For example, here is the mean birthweight in pounds:"
   ]
  },
  {
   "cell_type": "code",
   "execution_count": 18,
   "metadata": {},
   "outputs": [
    {
     "name": "stdout",
     "output_type": "stream",
     "text": [
      "Mean Birthweight in Pounds: 6.703286384976526\n"
     ]
    }
   ],
   "source": [
    "# Compute the mean birthweight in pounds\n",
    "mean_birthweight = df['birthwgt_lb1'].mean()\n",
    "\n",
    "# Print the result\n",
    "print(\"Mean Birthweight in Pounds:\", mean_birthweight)"
   ]
  },
  {
   "cell_type": "markdown",
   "metadata": {},
   "source": [
    "Create a new column named <tt>totalwgt_kg</tt> that contains birth weight in kilograms.  Compute its mean.  Remember that when you create a new column, you have to use dictionary syntax, not dot notation."
   ]
  },
  {
   "cell_type": "code",
   "execution_count": 19,
   "metadata": {},
   "outputs": [
    {
     "name": "stdout",
     "output_type": "stream",
     "text": [
      "Mean Birth Weight in Kilograms: 3.2300184609756095\n"
     ]
    }
   ],
   "source": [
    "# Compute the mean of the 'totalwgt_kg' column\n",
    "mean_totalwgt_kg = df['totalwgt_kg'].mean()\n",
    "\n",
    "# Print the mean birth weight in kilograms\n",
    "print(\"Mean Birth Weight in Kilograms:\", mean_totalwgt_kg)"
   ]
  },
  {
   "cell_type": "markdown",
   "metadata": {},
   "source": [
    "`nsfg1.py` also provides `read_fem_resp`, which reads the female respondents file and returns a `DataFrame`:"
   ]
  },
  {
   "cell_type": "markdown",
   "metadata": {},
   "source": [
    "`DataFrame` provides a method `head` that displays the first five rows (Female Respondent Codebook File)"
   ]
  },
  {
   "cell_type": "code",
   "execution_count": 20,
   "metadata": {},
   "outputs": [
    {
     "data": {
      "text/html": [
       "<div>\n",
       "<style scoped>\n",
       "    .dataframe tbody tr th:only-of-type {\n",
       "        vertical-align: middle;\n",
       "    }\n",
       "\n",
       "    .dataframe tbody tr th {\n",
       "        vertical-align: top;\n",
       "    }\n",
       "\n",
       "    .dataframe thead th {\n",
       "        text-align: right;\n",
       "    }\n",
       "</style>\n",
       "<table border=\"1\" class=\"dataframe\">\n",
       "  <thead>\n",
       "    <tr style=\"text-align: right;\">\n",
       "      <th></th>\n",
       "      <th>caseid</th>\n",
       "      <th>rscrninf</th>\n",
       "      <th>rscrage</th>\n",
       "      <th>rscrhisp</th>\n",
       "      <th>rscrrace</th>\n",
       "      <th>age_a</th>\n",
       "      <th>age_r</th>\n",
       "      <th>cmbirth</th>\n",
       "      <th>agescrn</th>\n",
       "      <th>marstat</th>\n",
       "      <th>...</th>\n",
       "      <th>sest</th>\n",
       "      <th>cmintvw</th>\n",
       "      <th>cmlstyr</th>\n",
       "      <th>cmjan3yr</th>\n",
       "      <th>cmjan4yr</th>\n",
       "      <th>cmjan5yr</th>\n",
       "      <th>quarter</th>\n",
       "      <th>phase</th>\n",
       "      <th>intvwyear</th>\n",
       "      <th>intvlngth</th>\n",
       "    </tr>\n",
       "  </thead>\n",
       "  <tbody>\n",
       "    <tr>\n",
       "      <th>0</th>\n",
       "      <td>60418</td>\n",
       "      <td>5</td>\n",
       "      <td>38</td>\n",
       "      <td>5</td>\n",
       "      <td>5</td>\n",
       "      <td>38</td>\n",
       "      <td>38</td>\n",
       "      <td>921</td>\n",
       "      <td>38</td>\n",
       "      <td>2</td>\n",
       "      <td>...</td>\n",
       "      <td>342</td>\n",
       "      <td>1381</td>\n",
       "      <td>1369</td>\n",
       "      <td>1345</td>\n",
       "      <td>1333</td>\n",
       "      <td>1321</td>\n",
       "      <td>14</td>\n",
       "      <td>1</td>\n",
       "      <td>2015</td>\n",
       "      <td>112.7</td>\n",
       "    </tr>\n",
       "    <tr>\n",
       "      <th>1</th>\n",
       "      <td>60419</td>\n",
       "      <td>5</td>\n",
       "      <td>37</td>\n",
       "      <td>5</td>\n",
       "      <td>5</td>\n",
       "      <td>37</td>\n",
       "      <td>37</td>\n",
       "      <td>942</td>\n",
       "      <td>37</td>\n",
       "      <td>2</td>\n",
       "      <td>...</td>\n",
       "      <td>318</td>\n",
       "      <td>1388</td>\n",
       "      <td>1376</td>\n",
       "      <td>1345</td>\n",
       "      <td>1333</td>\n",
       "      <td>1321</td>\n",
       "      <td>16</td>\n",
       "      <td>1</td>\n",
       "      <td>2015</td>\n",
       "      <td>80.0</td>\n",
       "    </tr>\n",
       "    <tr>\n",
       "      <th>2</th>\n",
       "      <td>60420</td>\n",
       "      <td>5</td>\n",
       "      <td>35</td>\n",
       "      <td>5</td>\n",
       "      <td>4</td>\n",
       "      <td>33</td>\n",
       "      <td>33</td>\n",
       "      <td>981</td>\n",
       "      <td>33</td>\n",
       "      <td>6</td>\n",
       "      <td>...</td>\n",
       "      <td>339</td>\n",
       "      <td>1388</td>\n",
       "      <td>1376</td>\n",
       "      <td>1345</td>\n",
       "      <td>1333</td>\n",
       "      <td>1321</td>\n",
       "      <td>16</td>\n",
       "      <td>1</td>\n",
       "      <td>2015</td>\n",
       "      <td>65.0</td>\n",
       "    </tr>\n",
       "    <tr>\n",
       "      <th>3</th>\n",
       "      <td>60423</td>\n",
       "      <td>1</td>\n",
       "      <td>31</td>\n",
       "      <td>5</td>\n",
       "      <td>4</td>\n",
       "      <td>31</td>\n",
       "      <td>31</td>\n",
       "      <td>1010</td>\n",
       "      <td>31</td>\n",
       "      <td>6</td>\n",
       "      <td>...</td>\n",
       "      <td>355</td>\n",
       "      <td>1387</td>\n",
       "      <td>1375</td>\n",
       "      <td>1345</td>\n",
       "      <td>1333</td>\n",
       "      <td>1321</td>\n",
       "      <td>16</td>\n",
       "      <td>1</td>\n",
       "      <td>2015</td>\n",
       "      <td>65.7</td>\n",
       "    </tr>\n",
       "    <tr>\n",
       "      <th>4</th>\n",
       "      <td>60426</td>\n",
       "      <td>5</td>\n",
       "      <td>39</td>\n",
       "      <td>5</td>\n",
       "      <td>5</td>\n",
       "      <td>39</td>\n",
       "      <td>39</td>\n",
       "      <td>897</td>\n",
       "      <td>39</td>\n",
       "      <td>1</td>\n",
       "      <td>...</td>\n",
       "      <td>344</td>\n",
       "      <td>1368</td>\n",
       "      <td>1356</td>\n",
       "      <td>1321</td>\n",
       "      <td>1309</td>\n",
       "      <td>1297</td>\n",
       "      <td>9</td>\n",
       "      <td>1</td>\n",
       "      <td>2013</td>\n",
       "      <td>51.6</td>\n",
       "    </tr>\n",
       "  </tbody>\n",
       "</table>\n",
       "<p>5 rows × 3207 columns</p>\n",
       "</div>"
      ],
      "text/plain": [
       "   caseid  rscrninf  rscrage  rscrhisp  rscrrace  age_a  age_r  cmbirth  \\\n",
       "0   60418         5       38         5         5     38     38      921   \n",
       "1   60419         5       37         5         5     37     37      942   \n",
       "2   60420         5       35         5         4     33     33      981   \n",
       "3   60423         1       31         5         4     31     31     1010   \n",
       "4   60426         5       39         5         5     39     39      897   \n",
       "\n",
       "   agescrn  marstat  ...  sest  cmintvw  cmlstyr  cmjan3yr  cmjan4yr  \\\n",
       "0       38        2  ...   342     1381     1369      1345      1333   \n",
       "1       37        2  ...   318     1388     1376      1345      1333   \n",
       "2       33        6  ...   339     1388     1376      1345      1333   \n",
       "3       31        6  ...   355     1387     1375      1345      1333   \n",
       "4       39        1  ...   344     1368     1356      1321      1309   \n",
       "\n",
       "   cmjan5yr  quarter  phase  intvwyear  intvlngth  \n",
       "0      1321       14      1       2015      112.7  \n",
       "1      1321       16      1       2015       80.0  \n",
       "2      1321       16      1       2015       65.0  \n",
       "3      1321       16      1       2015       65.7  \n",
       "4      1297        9      1       2013       51.6  \n",
       "\n",
       "[5 rows x 3207 columns]"
      ]
     },
     "execution_count": 20,
     "metadata": {},
     "output_type": "execute_result"
    }
   ],
   "source": [
    "resp.head()"
   ]
  },
  {
   "cell_type": "markdown",
   "metadata": {},
   "source": [
    "Select the `ager` column from `resp` and print the value counts.  How old are the youngest and oldest respondents?"
   ]
  },
  {
   "cell_type": "code",
   "execution_count": 21,
   "metadata": {},
   "outputs": [
    {
     "name": "stdout",
     "output_type": "stream",
     "text": [
      "ager\n",
      "17    239\n",
      "32    237\n",
      "25    235\n",
      "24    231\n",
      "26    221\n",
      "30    217\n",
      "35    210\n",
      "31    207\n",
      "27    206\n",
      "18    205\n",
      "29    196\n",
      "22    193\n",
      "19    192\n",
      "23    192\n",
      "34    190\n",
      "28    189\n",
      "16    188\n",
      "15    186\n",
      "33    184\n",
      "43    178\n",
      "21    176\n",
      "37    174\n",
      "36    174\n",
      "44    171\n",
      "39    165\n",
      "41    164\n",
      "20    161\n",
      "38    150\n",
      "40    138\n",
      "42    129\n",
      "45      1\n",
      "Name: count, dtype: int64\n",
      "Youngest respondent age: 15 years\n",
      "Oldest respondent age: 45 years\n"
     ]
    }
   ],
   "source": [
    "ager_column = resp['ager']\n",
    "\n",
    "# Print value counts\n",
    "print(ager_column.value_counts())\n",
    "\n",
    "# Find the youngest and oldest respondents\n",
    "youngest_age = ager_column.min()\n",
    "oldest_age = ager_column.max()\n",
    "\n",
    "print(f\"Youngest respondent age: {youngest_age} years\")\n",
    "print(f\"Oldest respondent age: {oldest_age} years\")"
   ]
  },
  {
   "cell_type": "markdown",
   "metadata": {},
   "source": [
    "We can use the `caseid` to match up rows from `resp` and `preg`.  For example, we can select the row from `resp` for `caseid` 60418 like this:"
   ]
  },
  {
   "cell_type": "code",
   "execution_count": 22,
   "metadata": {},
   "outputs": [
    {
     "name": "stdout",
     "output_type": "stream",
     "text": [
      "   caseid  rscrninf  rscrage  rscrhisp  rscrrace  age_a  age_r  cmbirth  \\\n",
      "0   60418         5       38         5         5     38     38      921   \n",
      "\n",
      "   agescrn  marstat  ...  sest  cmintvw  cmlstyr  cmjan3yr  cmjan4yr  \\\n",
      "0       38        2  ...   342     1381     1369      1345      1333   \n",
      "\n",
      "   cmjan5yr  quarter  phase  intvwyear  intvlngth  \n",
      "0      1321       14      1       2015      112.7  \n",
      "\n",
      "[1 rows x 3207 columns]\n"
     ]
    }
   ],
   "source": [
    "selected_rows = resp[resp['caseid'] == 60418]\n",
    "print(selected_rows)"
   ]
  },
  {
   "cell_type": "code",
   "execution_count": 23,
   "metadata": {},
   "outputs": [
    {
     "name": "stdout",
     "output_type": "stream",
     "text": [
      "True\n"
     ]
    }
   ],
   "source": [
    "caseid_exists = (resp['caseid'] == 60418).any()\n",
    "print(caseid_exists)"
   ]
  },
  {
   "cell_type": "markdown",
   "metadata": {},
   "source": [
    "And we can get the corresponding rows from `preg` like this:"
   ]
  },
  {
   "cell_type": "code",
   "execution_count": 24,
   "metadata": {},
   "outputs": [
    {
     "name": "stdout",
     "output_type": "stream",
     "text": [
      "   caseid  rscrninf  rscrage  rscrhisp  rscrrace  age_a  age_r  cmbirth_x  \\\n",
      "0   60418         5       38         5         5     38     38        921   \n",
      "1   60418         5       38         5         5     38     38        921   \n",
      "2   60418         5       38         5         5     38     38        921   \n",
      "\n",
      "   agescrn_x  marstat  ...  cmintvw_y  cmlstyr_y  cmjan3yr_y  cmjan4yr_y  \\\n",
      "0         38        2  ...        NaN       1369        1345        1333   \n",
      "1         38        2  ...        NaN       1369        1345        1333   \n",
      "2         38        2  ...        NaN       1369        1345        1333   \n",
      "\n",
      "   cmjan5yr_y  quarter_y  phase_y  intvwyear_y  totalwgt_lb1  totalwgt_kg  \n",
      "0        1321         14        1          201          5.25     2.381358  \n",
      "1        1321         14        1          201          4.75     2.154562  \n",
      "2        1321         14        1          201          5.25     2.381358  \n",
      "\n",
      "[3 rows x 3486 columns]\n"
     ]
    }
   ],
   "source": [
    "# `resp` and `preg` are DataFrames\n",
    "selected_rows_resp = resp[resp['caseid'] == 60418]\n",
    "merged_data = pd.merge(selected_rows_resp, preg, on='caseid')\n",
    "\n",
    "# `merged_data` contains rows from both DataFrames where the caseid is 60418\n",
    "print(merged_data)"
   ]
  },
  {
   "cell_type": "markdown",
   "metadata": {},
   "source": [
    "How old is the respondent with `caseid` 60418?"
   ]
  },
  {
   "cell_type": "code",
   "execution_count": 25,
   "metadata": {},
   "outputs": [
    {
     "name": "stdout",
     "output_type": "stream",
     "text": [
      "The age of the respondent with caseid 60418 is 38 years.\n"
     ]
    }
   ],
   "source": [
    "selected_row_resp = resp[resp['caseid'] == 60418]\n",
    "\n",
    "# Extract the age from the selected row\n",
    "respondent_age = selected_row_resp['ager'].values[0]\n",
    "\n",
    "print(f\"The age of the respondent with caseid 60418 is {respondent_age} years.\")"
   ]
  },
  {
   "cell_type": "markdown",
   "metadata": {},
   "source": [
    "What are the pregnancy lengths for the respondent with `caseid` 60418?"
   ]
  },
  {
   "cell_type": "code",
   "execution_count": 26,
   "metadata": {},
   "outputs": [
    {
     "name": "stdout",
     "output_type": "stream",
     "text": [
      "Pregnancy lengths for the respondent with caseid 60418:\n",
      "0    40\n",
      "1    36\n",
      "2    36\n",
      "Name: prglngth, dtype: int64\n"
     ]
    }
   ],
   "source": [
    "selected_rows_preg = preg[preg['caseid'] == 60418]\n",
    "\n",
    "# Extract the pregnancy lengths from the selected rows\n",
    "pregnancy_lengths = selected_rows_preg['prglngth']\n",
    "\n",
    "print(\"Pregnancy lengths for the respondent with caseid 60418:\")\n",
    "print(pregnancy_lengths)"
   ]
  },
  {
   "cell_type": "markdown",
   "metadata": {},
   "source": [
    "What was the birthweight of the first baby born to the respondent with `caseid` 60418?"
   ]
  },
  {
   "cell_type": "code",
   "execution_count": 27,
   "metadata": {},
   "outputs": [
    {
     "name": "stdout",
     "output_type": "stream",
     "text": [
      "Total weight of the first baby born to the respondent with caseid 60418: 5.25 pounds\n"
     ]
    }
   ],
   "source": [
    "# Assuming `preg` is your pregnancy DataFrame\n",
    "selected_rows_preg = preg[preg['caseid'] == 60418]\n",
    "\n",
    "# Assuming the birthweight columns are 'birthwgt_lb1' and 'birthwgt_oz1'\n",
    "birthweight_lb = selected_rows_preg['birthwgt_lb1'].iloc[0]\n",
    "birthweight_oz = selected_rows_preg['birthwgt_oz1'].iloc[0]\n",
    "\n",
    "# Convert ounces to pounds and add to the total weight in pounds\n",
    "total_weight_lb = birthweight_lb + birthweight_oz / 16\n",
    "\n",
    "print(f\"Total weight of the first baby born to the respondent with caseid 60418: {total_weight_lb} pounds\")"
   ]
  },
  {
   "cell_type": "markdown",
   "metadata": {},
   "source": [
    "Prints a list of outcomes for her pregnancies corresponding to respondent 60418"
   ]
  },
  {
   "cell_type": "code",
   "execution_count": 28,
   "metadata": {},
   "outputs": [
    {
     "data": {
      "text/plain": [
       "array([1, 1, 1], dtype=int64)"
      ]
     },
     "execution_count": 28,
     "metadata": {},
     "output_type": "execute_result"
    }
   ],
   "source": [
    "# Define caseid\n",
    "caseid = 60418\n",
    "\n",
    "# Use the make_preg_map function from nsfg1 module\n",
    "preg_map = nsfg1.make_preg_map(df)\n",
    "\n",
    "# Get indices for the specified caseid\n",
    "indices = preg_map[caseid]\n",
    "\n",
    "# Access the 'outcome' column using the indices\n",
    "df.outcome[indices].values"
   ]
  },
  {
   "cell_type": "markdown",
   "metadata": {},
   "source": [
    "This data tells the story of a woman who was pregnant three times, each time ending in miscarriage."
   ]
  },
  {
   "cell_type": "code",
   "execution_count": 30,
   "metadata": {},
   "outputs": [
    {
     "data": {
      "text/plain": [
       "array([5, 1, 1, 1], dtype=int64)"
      ]
     },
     "execution_count": 30,
     "metadata": {},
     "output_type": "execute_result"
    }
   ],
   "source": [
    "# Define caseid\n",
    "caseid = 60600\n",
    "\n",
    "# Use the make_preg_map function from nsfg1 module\n",
    "preg_map = nsfg1.make_preg_map(df)\n",
    "\n",
    "# Get indices for the specified caseid\n",
    "indices = preg_map[caseid]\n",
    "\n",
    "# Access the 'outcome' column using the indices\n",
    "df.outcome[indices].values"
   ]
  },
  {
   "cell_type": "markdown",
   "metadata": {},
   "source": [
    "1. The variable PREGEND1 (13-13) in the dataset records the outcome of pregnancies, with each numeric code representing a specific outcome. The value '5' in this variable indicates \"Live birth by Cesarean section,\" denoting that the pregnancy resulted in a live birth delivered through Cesarean section. This information is derived from the associated codebook, which outlines the meanings of each code. The variable is applicable to completed pregnancies, and occurrences marked as 'INAPPLICABLE' suggest instances where the variable is not relevant. This interpretation provides insights into the mode of delivery for pregnancies resulting in live births in the dataset.\n",
    "\n",
    "2. The value '1' in the variable PREGEND1 (13-13) signifies \"Miscarriage.\" In the context of the dataset, this code indicates that the pregnancy in question ended in a miscarriage. The numeric codes in PREGEND1 correspond to various pregnancy outcomes, and '1' specifically identifies cases where the pregnancy did not progress to a live birth but resulted in a miscarriage instead. This interpretation is based on information provided in the associated codebook, which outlines the meanings of different codes within the variable."
   ]
  },
  {
   "cell_type": "code",
   "execution_count": 31,
   "metadata": {},
   "outputs": [
    {
     "data": {
      "text/plain": [
       "0       1.0\n",
       "1       2.0\n",
       "2       3.0\n",
       "3       NaN\n",
       "4       1.0\n",
       "       ... \n",
       "9353    2.0\n",
       "9354    1.0\n",
       "9355    2.0\n",
       "9356    1.0\n",
       "9357    2.0\n",
       "Name: birthord, Length: 9358, dtype: float64"
      ]
     },
     "execution_count": 31,
     "metadata": {},
     "output_type": "execute_result"
    }
   ],
   "source": [
    "df.birthord "
   ]
  },
  {
   "cell_type": "code",
   "execution_count": 32,
   "metadata": {},
   "outputs": [
    {
     "ename": "AssertionError",
     "evalue": "",
     "output_type": "error",
     "traceback": [
      "\u001b[1;31m---------------------------------------------------------------------------\u001b[0m",
      "\u001b[1;31mAssertionError\u001b[0m                            Traceback (most recent call last)",
      "\u001b[1;32mc:\\Users\\Ayushi Tripathi\\OneDrive\\Documents\\Github\\NSFG-Data-Analysis\\resp_preg_1.ipynb Cell 44\u001b[0m line \u001b[0;36m5\n\u001b[0;32m      <a href='vscode-notebook-cell:/c%3A/Users/Ayushi%20Tripathi/OneDrive/Documents/Github/NSFG-Data-Analysis/resp_preg_1.ipynb#X65sZmlsZQ%3D%3D?line=1'>2</a>\u001b[0m firsts \u001b[39m=\u001b[39m live[live\u001b[39m.\u001b[39mbirthord \u001b[39m==\u001b[39m \u001b[39m1\u001b[39m]\n\u001b[0;32m      <a href='vscode-notebook-cell:/c%3A/Users/Ayushi%20Tripathi/OneDrive/Documents/Github/NSFG-Data-Analysis/resp_preg_1.ipynb#X65sZmlsZQ%3D%3D?line=2'>3</a>\u001b[0m others \u001b[39m=\u001b[39m live[live\u001b[39m.\u001b[39mbirthord \u001b[39m!=\u001b[39m \u001b[39m1\u001b[39m]\n\u001b[1;32m----> <a href='vscode-notebook-cell:/c%3A/Users/Ayushi%20Tripathi/OneDrive/Documents/Github/NSFG-Data-Analysis/resp_preg_1.ipynb#X65sZmlsZQ%3D%3D?line=4'>5</a>\u001b[0m \u001b[39massert\u001b[39;00m \u001b[39mlen\u001b[39m(live) \u001b[39m==\u001b[39m \u001b[39m9358\u001b[39m\n\u001b[0;32m      <a href='vscode-notebook-cell:/c%3A/Users/Ayushi%20Tripathi/OneDrive/Documents/Github/NSFG-Data-Analysis/resp_preg_1.ipynb#X65sZmlsZQ%3D%3D?line=5'>6</a>\u001b[0m \u001b[39massert\u001b[39;00m \u001b[39mlen\u001b[39m(firsts)\n",
      "\u001b[1;31mAssertionError\u001b[0m: "
     ]
    }
   ],
   "source": [
    "live = preg[preg.outcome == 1]\n",
    "firsts = live[live.birthord == 1]\n",
    "others = live[live.birthord != 1]\n",
    "\n",
    "assert len(live) == 9358\n",
    "assert len(firsts)"
   ]
  }
 ],
 "metadata": {
  "kernelspec": {
   "display_name": "mynsfgenv",
   "language": "python",
   "name": "python3"
  },
  "language_info": {
   "codemirror_mode": {
    "name": "ipython",
    "version": 3
   },
   "file_extension": ".py",
   "mimetype": "text/x-python",
   "name": "python",
   "nbconvert_exporter": "python",
   "pygments_lexer": "ipython3",
   "version": "3.8.18"
  }
 },
 "nbformat": 4,
 "nbformat_minor": 2
}
