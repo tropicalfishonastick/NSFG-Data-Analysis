{
 "cells": [
  {
   "cell_type": "code",
   "execution_count": 1,
   "metadata": {},
   "outputs": [
    {
     "data": {
      "text/html": [
       "<div>\n",
       "<style scoped>\n",
       "    .dataframe tbody tr th:only-of-type {\n",
       "        vertical-align: middle;\n",
       "    }\n",
       "\n",
       "    .dataframe tbody tr th {\n",
       "        vertical-align: top;\n",
       "    }\n",
       "\n",
       "    .dataframe thead th {\n",
       "        text-align: right;\n",
       "    }\n",
       "</style>\n",
       "<table border=\"1\" class=\"dataframe\">\n",
       "  <thead>\n",
       "    <tr style=\"text-align: right;\">\n",
       "      <th></th>\n",
       "      <th>caseid</th>\n",
       "      <th>pregordr</th>\n",
       "      <th>howpreg_n</th>\n",
       "      <th>howpreg_p</th>\n",
       "      <th>moscurrp</th>\n",
       "      <th>nowprgdk</th>\n",
       "      <th>pregend1</th>\n",
       "      <th>pregend2</th>\n",
       "      <th>howenddk</th>\n",
       "      <th>nbrnaliv</th>\n",
       "      <th>...</th>\n",
       "      <th>sest</th>\n",
       "      <th>cmintvw</th>\n",
       "      <th>cmlstyr</th>\n",
       "      <th>cmjan3yr</th>\n",
       "      <th>cmjan4yr</th>\n",
       "      <th>cmjan5yr</th>\n",
       "      <th>quarter</th>\n",
       "      <th>phase</th>\n",
       "      <th>intvwyear</th>\n",
       "      <th>total_lb1</th>\n",
       "    </tr>\n",
       "  </thead>\n",
       "  <tbody>\n",
       "    <tr>\n",
       "      <th>0</th>\n",
       "      <td>60418</td>\n",
       "      <td>1</td>\n",
       "      <td>NaN</td>\n",
       "      <td>NaN</td>\n",
       "      <td>NaN</td>\n",
       "      <td>NaN</td>\n",
       "      <td>5.0</td>\n",
       "      <td>NaN</td>\n",
       "      <td>NaN</td>\n",
       "      <td>1.0</td>\n",
       "      <td>...</td>\n",
       "      <td>342</td>\n",
       "      <td>NaN</td>\n",
       "      <td>1369</td>\n",
       "      <td>1345</td>\n",
       "      <td>1333</td>\n",
       "      <td>1321</td>\n",
       "      <td>14</td>\n",
       "      <td>1</td>\n",
       "      <td>201</td>\n",
       "      <td>5.2500</td>\n",
       "    </tr>\n",
       "    <tr>\n",
       "      <th>1</th>\n",
       "      <td>60418</td>\n",
       "      <td>2</td>\n",
       "      <td>NaN</td>\n",
       "      <td>NaN</td>\n",
       "      <td>NaN</td>\n",
       "      <td>NaN</td>\n",
       "      <td>5.0</td>\n",
       "      <td>NaN</td>\n",
       "      <td>NaN</td>\n",
       "      <td>1.0</td>\n",
       "      <td>...</td>\n",
       "      <td>342</td>\n",
       "      <td>NaN</td>\n",
       "      <td>1369</td>\n",
       "      <td>1345</td>\n",
       "      <td>1333</td>\n",
       "      <td>1321</td>\n",
       "      <td>14</td>\n",
       "      <td>1</td>\n",
       "      <td>201</td>\n",
       "      <td>4.7500</td>\n",
       "    </tr>\n",
       "    <tr>\n",
       "      <th>2</th>\n",
       "      <td>60418</td>\n",
       "      <td>3</td>\n",
       "      <td>NaN</td>\n",
       "      <td>NaN</td>\n",
       "      <td>NaN</td>\n",
       "      <td>NaN</td>\n",
       "      <td>5.0</td>\n",
       "      <td>NaN</td>\n",
       "      <td>NaN</td>\n",
       "      <td>1.0</td>\n",
       "      <td>...</td>\n",
       "      <td>342</td>\n",
       "      <td>NaN</td>\n",
       "      <td>1369</td>\n",
       "      <td>1345</td>\n",
       "      <td>1333</td>\n",
       "      <td>1321</td>\n",
       "      <td>14</td>\n",
       "      <td>1</td>\n",
       "      <td>201</td>\n",
       "      <td>5.2500</td>\n",
       "    </tr>\n",
       "    <tr>\n",
       "      <th>3</th>\n",
       "      <td>60419</td>\n",
       "      <td>1</td>\n",
       "      <td>33.0</td>\n",
       "      <td>1.0</td>\n",
       "      <td>8.0</td>\n",
       "      <td>NaN</td>\n",
       "      <td>NaN</td>\n",
       "      <td>NaN</td>\n",
       "      <td>NaN</td>\n",
       "      <td>NaN</td>\n",
       "      <td>...</td>\n",
       "      <td>318</td>\n",
       "      <td>NaN</td>\n",
       "      <td>1376</td>\n",
       "      <td>1345</td>\n",
       "      <td>1333</td>\n",
       "      <td>1321</td>\n",
       "      <td>16</td>\n",
       "      <td>1</td>\n",
       "      <td>201</td>\n",
       "      <td>NaN</td>\n",
       "    </tr>\n",
       "    <tr>\n",
       "      <th>4</th>\n",
       "      <td>60420</td>\n",
       "      <td>1</td>\n",
       "      <td>NaN</td>\n",
       "      <td>NaN</td>\n",
       "      <td>NaN</td>\n",
       "      <td>NaN</td>\n",
       "      <td>6.0</td>\n",
       "      <td>NaN</td>\n",
       "      <td>NaN</td>\n",
       "      <td>1.0</td>\n",
       "      <td>...</td>\n",
       "      <td>339</td>\n",
       "      <td>NaN</td>\n",
       "      <td>1376</td>\n",
       "      <td>1345</td>\n",
       "      <td>1333</td>\n",
       "      <td>1321</td>\n",
       "      <td>16</td>\n",
       "      <td>1</td>\n",
       "      <td>201</td>\n",
       "      <td>8.8125</td>\n",
       "    </tr>\n",
       "    <tr>\n",
       "      <th>...</th>\n",
       "      <td>...</td>\n",
       "      <td>...</td>\n",
       "      <td>...</td>\n",
       "      <td>...</td>\n",
       "      <td>...</td>\n",
       "      <td>...</td>\n",
       "      <td>...</td>\n",
       "      <td>...</td>\n",
       "      <td>...</td>\n",
       "      <td>...</td>\n",
       "      <td>...</td>\n",
       "      <td>...</td>\n",
       "      <td>...</td>\n",
       "      <td>...</td>\n",
       "      <td>...</td>\n",
       "      <td>...</td>\n",
       "      <td>...</td>\n",
       "      <td>...</td>\n",
       "      <td>...</td>\n",
       "      <td>...</td>\n",
       "      <td>...</td>\n",
       "    </tr>\n",
       "    <tr>\n",
       "      <th>9353</th>\n",
       "      <td>70615</td>\n",
       "      <td>3</td>\n",
       "      <td>NaN</td>\n",
       "      <td>NaN</td>\n",
       "      <td>NaN</td>\n",
       "      <td>NaN</td>\n",
       "      <td>6.0</td>\n",
       "      <td>NaN</td>\n",
       "      <td>NaN</td>\n",
       "      <td>1.0</td>\n",
       "      <td>...</td>\n",
       "      <td>342</td>\n",
       "      <td>NaN</td>\n",
       "      <td>1353</td>\n",
       "      <td>1321</td>\n",
       "      <td>1309</td>\n",
       "      <td>1297</td>\n",
       "      <td>9</td>\n",
       "      <td>1</td>\n",
       "      <td>201</td>\n",
       "      <td>4.6875</td>\n",
       "    </tr>\n",
       "    <tr>\n",
       "      <th>9354</th>\n",
       "      <td>70616</td>\n",
       "      <td>1</td>\n",
       "      <td>NaN</td>\n",
       "      <td>NaN</td>\n",
       "      <td>NaN</td>\n",
       "      <td>NaN</td>\n",
       "      <td>5.0</td>\n",
       "      <td>NaN</td>\n",
       "      <td>NaN</td>\n",
       "      <td>1.0</td>\n",
       "      <td>...</td>\n",
       "      <td>324</td>\n",
       "      <td>NaN</td>\n",
       "      <td>1375</td>\n",
       "      <td>1345</td>\n",
       "      <td>1333</td>\n",
       "      <td>1321</td>\n",
       "      <td>16</td>\n",
       "      <td>1</td>\n",
       "      <td>201</td>\n",
       "      <td>8.4375</td>\n",
       "    </tr>\n",
       "    <tr>\n",
       "      <th>9355</th>\n",
       "      <td>70616</td>\n",
       "      <td>2</td>\n",
       "      <td>NaN</td>\n",
       "      <td>NaN</td>\n",
       "      <td>NaN</td>\n",
       "      <td>NaN</td>\n",
       "      <td>5.0</td>\n",
       "      <td>NaN</td>\n",
       "      <td>NaN</td>\n",
       "      <td>1.0</td>\n",
       "      <td>...</td>\n",
       "      <td>324</td>\n",
       "      <td>NaN</td>\n",
       "      <td>1375</td>\n",
       "      <td>1345</td>\n",
       "      <td>1333</td>\n",
       "      <td>1321</td>\n",
       "      <td>16</td>\n",
       "      <td>1</td>\n",
       "      <td>201</td>\n",
       "      <td>7.3750</td>\n",
       "    </tr>\n",
       "    <tr>\n",
       "      <th>9356</th>\n",
       "      <td>70619</td>\n",
       "      <td>1</td>\n",
       "      <td>NaN</td>\n",
       "      <td>NaN</td>\n",
       "      <td>NaN</td>\n",
       "      <td>NaN</td>\n",
       "      <td>6.0</td>\n",
       "      <td>NaN</td>\n",
       "      <td>NaN</td>\n",
       "      <td>1.0</td>\n",
       "      <td>...</td>\n",
       "      <td>358</td>\n",
       "      <td>NaN</td>\n",
       "      <td>1370</td>\n",
       "      <td>1345</td>\n",
       "      <td>1333</td>\n",
       "      <td>1321</td>\n",
       "      <td>14</td>\n",
       "      <td>1</td>\n",
       "      <td>201</td>\n",
       "      <td>8.1875</td>\n",
       "    </tr>\n",
       "    <tr>\n",
       "      <th>9357</th>\n",
       "      <td>70619</td>\n",
       "      <td>2</td>\n",
       "      <td>NaN</td>\n",
       "      <td>NaN</td>\n",
       "      <td>NaN</td>\n",
       "      <td>NaN</td>\n",
       "      <td>5.0</td>\n",
       "      <td>NaN</td>\n",
       "      <td>NaN</td>\n",
       "      <td>1.0</td>\n",
       "      <td>...</td>\n",
       "      <td>358</td>\n",
       "      <td>NaN</td>\n",
       "      <td>1370</td>\n",
       "      <td>1345</td>\n",
       "      <td>1333</td>\n",
       "      <td>1321</td>\n",
       "      <td>14</td>\n",
       "      <td>1</td>\n",
       "      <td>201</td>\n",
       "      <td>8.3125</td>\n",
       "    </tr>\n",
       "  </tbody>\n",
       "</table>\n",
       "<p>9358 rows × 279 columns</p>\n",
       "</div>"
      ],
      "text/plain": [
       "      caseid  pregordr  howpreg_n  howpreg_p  moscurrp  nowprgdk  pregend1  \\\n",
       "0      60418         1        NaN        NaN       NaN       NaN       5.0   \n",
       "1      60418         2        NaN        NaN       NaN       NaN       5.0   \n",
       "2      60418         3        NaN        NaN       NaN       NaN       5.0   \n",
       "3      60419         1       33.0        1.0       8.0       NaN       NaN   \n",
       "4      60420         1        NaN        NaN       NaN       NaN       6.0   \n",
       "...      ...       ...        ...        ...       ...       ...       ...   \n",
       "9353   70615         3        NaN        NaN       NaN       NaN       6.0   \n",
       "9354   70616         1        NaN        NaN       NaN       NaN       5.0   \n",
       "9355   70616         2        NaN        NaN       NaN       NaN       5.0   \n",
       "9356   70619         1        NaN        NaN       NaN       NaN       6.0   \n",
       "9357   70619         2        NaN        NaN       NaN       NaN       5.0   \n",
       "\n",
       "      pregend2  howenddk  nbrnaliv  ...  sest  cmintvw  cmlstyr  cmjan3yr  \\\n",
       "0          NaN       NaN       1.0  ...   342      NaN     1369      1345   \n",
       "1          NaN       NaN       1.0  ...   342      NaN     1369      1345   \n",
       "2          NaN       NaN       1.0  ...   342      NaN     1369      1345   \n",
       "3          NaN       NaN       NaN  ...   318      NaN     1376      1345   \n",
       "4          NaN       NaN       1.0  ...   339      NaN     1376      1345   \n",
       "...        ...       ...       ...  ...   ...      ...      ...       ...   \n",
       "9353       NaN       NaN       1.0  ...   342      NaN     1353      1321   \n",
       "9354       NaN       NaN       1.0  ...   324      NaN     1375      1345   \n",
       "9355       NaN       NaN       1.0  ...   324      NaN     1375      1345   \n",
       "9356       NaN       NaN       1.0  ...   358      NaN     1370      1345   \n",
       "9357       NaN       NaN       1.0  ...   358      NaN     1370      1345   \n",
       "\n",
       "      cmjan4yr  cmjan5yr  quarter  phase  intvwyear  total_lb1  \n",
       "0         1333      1321       14      1        201     5.2500  \n",
       "1         1333      1321       14      1        201     4.7500  \n",
       "2         1333      1321       14      1        201     5.2500  \n",
       "3         1333      1321       16      1        201        NaN  \n",
       "4         1333      1321       16      1        201     8.8125  \n",
       "...        ...       ...      ...    ...        ...        ...  \n",
       "9353      1309      1297        9      1        201     4.6875  \n",
       "9354      1333      1321       16      1        201     8.4375  \n",
       "9355      1333      1321       16      1        201     7.3750  \n",
       "9356      1333      1321       14      1        201     8.1875  \n",
       "9357      1333      1321       14      1        201     8.3125  \n",
       "\n",
       "[9358 rows x 279 columns]"
      ]
     },
     "execution_count": 1,
     "metadata": {},
     "output_type": "execute_result"
    }
   ],
   "source": [
    "import nsfg1\n",
    "import numpy as np\n",
    "from importlib import reload\n",
    "reload(nsfg1)\n",
    "\n",
    "df = nsfg1.read_fem_preg()\n",
    "df"
   ]
  },
  {
   "cell_type": "code",
   "execution_count": 2,
   "metadata": {},
   "outputs": [
    {
     "data": {
      "text/plain": [
       "0       5.0\n",
       "1       4.0\n",
       "2       5.0\n",
       "3       NaN\n",
       "4       8.0\n",
       "       ... \n",
       "9353    4.0\n",
       "9354    8.0\n",
       "9355    7.0\n",
       "9356    8.0\n",
       "9357    8.0\n",
       "Name: birthwgt_lb1, Length: 9358, dtype: float64"
      ]
     },
     "execution_count": 2,
     "metadata": {},
     "output_type": "execute_result"
    }
   ],
   "source": [
    "df['birthwgt_lb1']"
   ]
  },
  {
   "cell_type": "code",
   "execution_count": 3,
   "metadata": {},
   "outputs": [
    {
     "data": {
      "text/plain": [
       "Index(['caseid', 'pregordr', 'howpreg_n', 'howpreg_p', 'moscurrp', 'nowprgdk',\n",
       "       'pregend1', 'pregend2', 'howenddk', 'nbrnaliv',\n",
       "       ...\n",
       "       'sest', 'cmintvw', 'cmlstyr', 'cmjan3yr', 'cmjan4yr', 'cmjan5yr',\n",
       "       'quarter', 'phase', 'intvwyear', 'total_lb1'],\n",
       "      dtype='object', length=279)"
      ]
     },
     "execution_count": 3,
     "metadata": {},
     "output_type": "execute_result"
    }
   ],
   "source": [
    "df.columns"
   ]
  },
  {
   "cell_type": "code",
   "execution_count": 4,
   "metadata": {},
   "outputs": [
    {
     "data": {
      "text/plain": [
       "'pregordr'"
      ]
     },
     "execution_count": 4,
     "metadata": {},
     "output_type": "execute_result"
    }
   ],
   "source": [
    "df.columns[1]"
   ]
  },
  {
   "cell_type": "code",
   "execution_count": 5,
   "metadata": {},
   "outputs": [
    {
     "data": {
      "text/plain": [
       "pandas.core.series.Series"
      ]
     },
     "execution_count": 5,
     "metadata": {},
     "output_type": "execute_result"
    }
   ],
   "source": [
    "pregordr = df['pregordr']\n",
    "type(pregordr)"
   ]
  },
  {
   "cell_type": "code",
   "execution_count": 6,
   "metadata": {},
   "outputs": [
    {
     "data": {
      "text/plain": [
       "1"
      ]
     },
     "execution_count": 6,
     "metadata": {},
     "output_type": "execute_result"
    }
   ],
   "source": [
    "pregordr[0]"
   ]
  },
  {
   "cell_type": "code",
   "execution_count": 7,
   "metadata": {},
   "outputs": [
    {
     "data": {
      "text/plain": [
       "2    3\n",
       "3    1\n",
       "4    1\n",
       "Name: pregordr, dtype: int64"
      ]
     },
     "execution_count": 7,
     "metadata": {},
     "output_type": "execute_result"
    }
   ],
   "source": [
    "pregordr[2:5]"
   ]
  },
  {
   "cell_type": "code",
   "execution_count": 8,
   "metadata": {},
   "outputs": [],
   "source": [
    "pregordr = df.pregordr"
   ]
  },
  {
   "cell_type": "code",
   "execution_count": 9,
   "metadata": {},
   "outputs": [
    {
     "data": {
      "text/plain": [
       "nan"
      ]
     },
     "execution_count": 9,
     "metadata": {},
     "output_type": "execute_result"
    }
   ],
   "source": [
    "np.nan / 100.0"
   ]
  },
  {
   "cell_type": "code",
   "execution_count": 10,
   "metadata": {},
   "outputs": [
    {
     "data": {
      "text/plain": [
       "prgoutcome\n",
       "1.0    6485\n",
       "2.0    2621\n",
       "3.0     249\n",
       "Name: count, dtype: int64"
      ]
     },
     "execution_count": 10,
     "metadata": {},
     "output_type": "execute_result"
    }
   ],
   "source": [
    "df.prgoutcome.value_counts().sort_index()"
   ]
  },
  {
   "cell_type": "code",
   "execution_count": 11,
   "metadata": {},
   "outputs": [
    {
     "data": {
      "text/plain": [
       "birthwgt_lb1\n",
       "5.0      586\n",
       "4.0      196\n",
       "8.0     1168\n",
       "6.0     1666\n",
       "7.0     2146\n",
       "3.0       67\n",
       "10.0      82\n",
       "1.0       34\n",
       "9.0      363\n",
       "11.0      17\n",
       "12.0       7\n",
       "2.0       47\n",
       "14.0       2\n",
       "0.0        6\n",
       "13.0       2\n",
       "17.0       1\n",
       "Name: count, dtype: int64"
      ]
     },
     "execution_count": 11,
     "metadata": {},
     "output_type": "execute_result"
    }
   ],
   "source": [
    "df.birthwgt_lb1.value_counts(sort=False)"
   ]
  },
  {
   "cell_type": "markdown",
   "metadata": {},
   "source": [
    "indices is the list of indices for pregnancies corresponding to respondent 9353"
   ]
  },
  {
   "cell_type": "code",
   "execution_count": 12,
   "metadata": {},
   "outputs": [
    {
     "name": "stdout",
     "output_type": "stream",
     "text": [
      "['__builtins__', '__cached__', '__doc__', '__file__', '__loader__', '__name__', '__package__', '__spec__', 'clean_fem_preg', 'defaultdict', 'make_preg_map', 'np', 'read_fem_preg', 'stat1', 'sys']\n"
     ]
    }
   ],
   "source": [
    "print(dir(nsfg1))"
   ]
  },
  {
   "cell_type": "code",
   "execution_count": 15,
   "metadata": {},
   "outputs": [
    {
     "name": "stdout",
     "output_type": "stream",
     "text": [
      "[4 1 1]\n"
     ]
    }
   ],
   "source": [
    "caseid = 70615\n",
    "preg_map = nsfg1.make_preg_map(df)\n",
    "\n",
    "# Check if caseid is present in the preg_map\n",
    "if caseid in preg_map:\n",
    "    indices = preg_map[caseid]\n",
    "    result = df.outcome[indices].values\n",
    "    print(result)\n",
    "else:\n",
    "    print(\"No matching entries for caseid\", caseid)\n"
   ]
  }
 ],
 "metadata": {
  "kernelspec": {
   "display_name": "mynsfgenv",
   "language": "python",
   "name": "python3"
  },
  "language_info": {
   "codemirror_mode": {
    "name": "ipython",
    "version": 3
   },
   "file_extension": ".py",
   "mimetype": "text/x-python",
   "name": "python",
   "nbconvert_exporter": "python",
   "pygments_lexer": "ipython3",
   "version": "3.8.18"
  }
 },
 "nbformat": 4,
 "nbformat_minor": 2
}
